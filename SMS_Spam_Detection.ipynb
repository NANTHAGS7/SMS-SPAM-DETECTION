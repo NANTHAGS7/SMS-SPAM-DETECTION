{
  "nbformat": 4,
  "nbformat_minor": 0,
  "metadata": {
    "colab": {
      "provenance": []
    },
    "kernelspec": {
      "name": "python3",
      "display_name": "Python 3"
    },
    "language_info": {
      "name": "python"
    }
  },
  "cells": [
    {
      "cell_type": "code",
      "execution_count": 18,
      "metadata": {
        "id": "-q4rjoPosHSc"
      },
      "outputs": [],
      "source": [
        "import pandas as pd\n",
        "from sklearn.model_selection import train_test_split\n",
        "from sklearn.feature_extraction.text import TfidfVectorizer\n",
        "from sklearn.linear_model import LogisticRegression\n",
        "from sklearn.pipeline import make_pipeline\n",
        "from sklearn.metrics import classification_report"
      ]
    },
    {
      "cell_type": "code",
      "source": [
        "# Load the CSV file\n",
        "data = pd.read_csv('spam.csv', encoding='latin-1')\n",
        "\n",
        "# Preprocess the data\n",
        "data = data.rename(columns={'v1': 'label', 'v2': 'message'})\n",
        "data = data[['label', 'message']]\n",
        "data['label'] = data['label'].map({'ham': 0, 'spam': 1})"
      ],
      "metadata": {
        "id": "GjTnmeoRy-4I"
      },
      "execution_count": 20,
      "outputs": []
    },
    {
      "cell_type": "code",
      "source": [
        "# Split data into training and test sets\n",
        "X_train, X_test, y_train, y_test = train_test_split(data['message'], data['label'], test_size=0.2, random_state=42)"
      ],
      "metadata": {
        "id": "XU0EArt6y_yf"
      },
      "execution_count": 21,
      "outputs": []
    },
    {
      "cell_type": "code",
      "source": [
        "# Create a pipeline with TF-IDF vectorizer and Logistic Regression\n",
        "model = make_pipeline(TfidfVectorizer(stop_words='english'), LogisticRegression(max_iter=1000))"
      ],
      "metadata": {
        "id": "T9Tf_fBqzGbC"
      },
      "execution_count": 22,
      "outputs": []
    },
    {
      "cell_type": "code",
      "source": [
        "# Train the model\n",
        "model.fit(X_train, y_train)\n",
        "\n",
        "# Evaluate the model\n",
        "y_pred = model.predict(X_test)\n",
        "print(classification_report(y_test, y_pred))"
      ],
      "metadata": {
        "colab": {
          "base_uri": "https://localhost:8080/"
        },
        "id": "hW9kguCZzJAB",
        "outputId": "fefa172a-ce88-42db-d0b8-06d7f0a7f768"
      },
      "execution_count": 23,
      "outputs": [
        {
          "output_type": "stream",
          "name": "stdout",
          "text": [
            "              precision    recall  f1-score   support\n",
            "\n",
            "           0       0.95      1.00      0.97       965\n",
            "           1       0.97      0.67      0.79       150\n",
            "\n",
            "    accuracy                           0.95      1115\n",
            "   macro avg       0.96      0.83      0.88      1115\n",
            "weighted avg       0.95      0.95      0.95      1115\n",
            "\n"
          ]
        }
      ]
    },
    {
      "cell_type": "code",
      "source": [
        "def predict_message(message):\n",
        "    prediction = model.predict([message])[0]\n",
        "    probability = model.predict_proba([message])[0][prediction]\n",
        "    label = 'spam' if prediction == 1 else 'not spam'\n",
        "    return label, probability\n",
        "\n",
        "# Take dynamic input from the user\n",
        "while True:\n",
        "    user_input = input(\"Enter an SMS message (or type 'exit' to quit): \")\n",
        "    if user_input.lower() == 'exit':\n",
        "        break\n",
        "    label, probability = predict_message(user_input)\n",
        "    print(f\"The message is classified as '{label}' with a probability of {probability:.2f}\\n\")"
      ],
      "metadata": {
        "colab": {
          "base_uri": "https://localhost:8080/"
        },
        "id": "rsvAhROYzNKM",
        "outputId": "39b07790-acc2-4afa-f2c2-b19e42833e9f"
      },
      "execution_count": 25,
      "outputs": [
        {
          "name": "stdout",
          "output_type": "stream",
          "text": [
            "Enter an SMS message (or type 'exit' to quit): Oh k...i'm watching here:)\n",
            "The message is classified as 'not spam' with a probability of 0.97\n",
            "\n",
            "Enter an SMS message (or type 'exit' to quit): As a valued customer, I am pleased to advise you that following recent review of your Mob No. you are awarded with a 螢1500 Bonus Prize, call 09066364589\n",
            "The message is classified as 'spam' with a probability of 0.56\n",
            "\n",
            "Enter an SMS message (or type 'exit' to quit): exit\n"
          ]
        }
      ]
    }
  ]
}